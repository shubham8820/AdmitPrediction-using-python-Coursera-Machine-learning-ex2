{
 "cells": [
  {
   "cell_type": "code",
   "execution_count": 5,
   "metadata": {},
   "outputs": [],
   "source": [
    "def CostFunction(theta,X,y,return_grad=False):\n",
    "    import numpy as np \n",
    "    from sigmoid import sigmoid\n",
    "    \n",
    "    m=len(y)\n",
    "    J = 0\n",
    "    grad = np.zeros(theta.shape)\n",
    "    \n",
    "    c1 = y * np.transpose(np.log( sigmoid( np.dot(X,theta) ) ))\n",
    "    c0 = (1-y) * np.transpose(np.log( 1 - sigmoid( np.dot(X,theta) ) ))\n",
    "    \n",
    "    J = -(1./m)*(one+two).sum()\n",
    "    return J"
   ]
  },
  {
   "cell_type": "code",
   "execution_count": null,
   "metadata": {},
   "outputs": [],
   "source": []
  }
 ],
 "metadata": {
  "kernelspec": {
   "display_name": "Python 3",
   "language": "python",
   "name": "python3"
  },
  "language_info": {
   "codemirror_mode": {
    "name": "ipython",
    "version": 3
   },
   "file_extension": ".py",
   "mimetype": "text/x-python",
   "name": "python",
   "nbconvert_exporter": "python",
   "pygments_lexer": "ipython3",
   "version": "3.6.5"
  }
 },
 "nbformat": 4,
 "nbformat_minor": 2
}
